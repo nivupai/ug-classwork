{
 "cells": [
  {
   "cell_type": "markdown",
   "metadata": {},
   "source": [
    "## Baseline"
   ]
  },
  {
   "cell_type": "code",
   "execution_count": 63,
   "metadata": {},
   "outputs": [],
   "source": [
    "import tarfile\n",
    "import nltk\n",
    "import sys\n",
    "import random\n",
    "import numpy as np\n",
    "import sklearn\n",
    "import os\n",
    "from sklearn.model_selection import KFold, ShuffleSplit\n",
    "from sklearn.metrics import precision_recall_fscore_support, f1_score, precision_score, recall_score, accuracy_score\n",
    "import string\n",
    "import re\n",
    "from sklearn.model_selection import train_test_split\n",
    "from nltk import classify\n",
    "from nltk import NaiveBayesClassifier\n",
    "from nltk.corpus import stopwords\n",
    "from nltk.tag import pos_tag\n",
    "from nltk.stem.wordnet import WordNetLemmatizer\n",
    "from nltk.metrics import *\n",
    "import collections"
   ]
  },
  {
   "cell_type": "code",
   "execution_count": 64,
   "metadata": {},
   "outputs": [],
   "source": [
    "polaritytar = tarfile.open(\"../Data/review_polarity.tar.gz\", \"r\")\n",
    "polaritytar.extractall('../Data/Polarity_Data')"
   ]
  },
  {
   "cell_type": "code",
   "execution_count": 65,
   "metadata": {},
   "outputs": [],
   "source": [
    "# lines negative reviews\n",
    "neglines = []\n",
    "for nfilename in os.listdir('../Data/Polarity_Data/txt_sentoken/neg'):\n",
    "    openFile = open(('../Data/Polarity_Data/txt_sentoken/neg/' + nfilename),\"r\")\n",
    "    neglines = openFile.readlines()\n",
    "\n",
    "# lines positive reviews\n",
    "poslines = []\n",
    "for pfilename in os.listdir('../Data/Polarity_Data/txt_sentoken/pos'):\n",
    "    openFile = open(('../Data/Polarity_Data/txt_sentoken/pos/' + pfilename),\"r\")\n",
    "    poslines = openFile.readlines()\n",
    "    "
   ]
  },
  {
   "cell_type": "code",
   "execution_count": 66,
   "metadata": {},
   "outputs": [],
   "source": [
    "# tokens positive reviews\n",
    "poslines_tokens = []\n",
    "for line in poslines:\n",
    "    l = []\n",
    "    for word in line.split():\n",
    "        l.append(word)\n",
    "    poslines_tokens.append(l)\n",
    "    \n",
    "# tokens negative reviews\n",
    "neglines_tokens = []\n",
    "for line in neglines:\n",
    "    l = []\n",
    "    for word in line.split():\n",
    "        l.append(word)\n",
    "    neglines_tokens.append(l)"
   ]
  },
  {
   "cell_type": "code",
   "execution_count": 67,
   "metadata": {},
   "outputs": [],
   "source": [
    "### helper function to remove non-alphanumeric characters and lowercase each token ###\n",
    "def clean_tokens(tokens):\n",
    "    cleaned_tokens = []\n",
    "    \n",
    "    for token in tokens:\n",
    "        cleaned_tokens.append(token.lower())\n",
    "\n",
    "    return cleaned_tokens"
   ]
  },
  {
   "cell_type": "code",
   "execution_count": 68,
   "metadata": {},
   "outputs": [],
   "source": [
    "positive_cleaned_tokens = []\n",
    "negative_cleaned_tokens = []\n",
    "\n",
    "for tokens in poslines_tokens:\n",
    "    positive_cleaned_tokens.append(clean_tokens(tokens))\n",
    "\n",
    "for tokens in neglines_tokens:\n",
    "    negative_cleaned_tokens.append(clean_tokens(tokens))"
   ]
  },
  {
   "cell_type": "code",
   "execution_count": 69,
   "metadata": {},
   "outputs": [],
   "source": [
    "def create_model(cleaned_tokens_list):\n",
    "    for tokens in cleaned_tokens_list:\n",
    "        yield dict([token, True] for token in tokens)"
   ]
  },
  {
   "cell_type": "code",
   "execution_count": 70,
   "metadata": {},
   "outputs": [],
   "source": [
    "positive_tokens_for_model = create_model(positive_cleaned_tokens)\n",
    "negative_tokens_for_model = create_model(negative_cleaned_tokens)"
   ]
  },
  {
   "cell_type": "code",
   "execution_count": 71,
   "metadata": {},
   "outputs": [],
   "source": [
    "positive_dataset = [(t,\"Positive\") for t in positive_tokens_for_model]\n",
    "negative_dataset = [(t,\"Negative\") for t in negative_tokens_for_model]\n",
    "\n",
    "dataset = positive_dataset + negative_dataset\n"
   ]
  },
  {
   "cell_type": "code",
   "execution_count": 72,
   "metadata": {},
   "outputs": [],
   "source": [
    "np_dataset = np.array(dataset)"
   ]
  },
  {
   "cell_type": "code",
   "execution_count": 73,
   "metadata": {},
   "outputs": [
    {
     "name": "stdout",
     "output_type": "stream",
     "text": [
      "Accuracy: 0.8272727272727274\n",
      "Precision: 0.8582738095238096\n"
     ]
    }
   ],
   "source": [
    "# use k-fold cross validation with k = 10 to train and test\n",
    "kfold = KFold(n_splits=10, shuffle=True, random_state=1)\n",
    "mean_accuracy, mean_precision = list(), list()\n",
    "\n",
    "for train_i, test_i in kfold.split(np_dataset):\n",
    "    \n",
    "    xtrain, xtest = np_dataset[train_i], np_dataset[test_i]\n",
    "    classifier = NaiveBayesClassifier.train(xtrain)\n",
    "\n",
    "    mean_accuracy.append(classify.accuracy(classifier, xtest))\n",
    "    refsets = collections.defaultdict(set)\n",
    "    testsets = collections.defaultdict(set)\n",
    "\n",
    "    for i, (feats, label) in enumerate(xtest):\n",
    "        refsets[label].add(i)\n",
    "        observed = classifier.classify(feats)\n",
    "        testsets[observed].add(i)   \n",
    "\n",
    "    mean_precision.append(precision(refsets['Positive'], testsets['Positive']))\n",
    "    mean_precision.append(precision(refsets['Negative'], testsets['Negative']))\n",
    "\n",
    "# print the mean accuracy across all the folds\n",
    "print(\"Accuracy:\", np.mean(mean_accuracy))\n",
    "print(\"Precision:\", np.mean(mean_precision))\n"
   ]
  },
  {
   "cell_type": "markdown",
   "metadata": {},
   "source": [
    "## Improved"
   ]
  },
  {
   "cell_type": "code",
   "execution_count": 74,
   "metadata": {},
   "outputs": [],
   "source": [
    "import tarfile\n",
    "import collections\n",
    "import nltk\n",
    "import sys\n",
    "import random\n",
    "import string\n",
    "import re\n",
    "import os\n",
    "import numpy as np\n",
    "import sklearn\n",
    "from sklearn.model_selection import KFold, ShuffleSplit\n",
    "from sklearn.naive_bayes import BernoulliNB\n",
    "from sklearn.model_selection import train_test_split\n",
    "from nltk import classify\n",
    "from nltk.classify import SklearnClassifier\n",
    "from nltk import NaiveBayesClassifier, DecisionTreeClassifier\n",
    "from nltk.corpus import stopwords\n",
    "from nltk.tag import pos_tag\n",
    "from nltk.stem.wordnet import WordNetLemmatizer\n",
    "from nltk.tag import pos_tag\n",
    "from nltk.metrics.scores import precision, recall\n",
    "from nltk.stem import WordNetLemmatizer"
   ]
  },
  {
   "cell_type": "code",
   "execution_count": 75,
   "metadata": {},
   "outputs": [],
   "source": [
    "polaritytar = tarfile.open(\"../Data/review_polarity.tar.gz\", \"r\")\n",
    "polaritytar.extractall('../Data/Polarity_Data')\n",
    "\n",
    "nrctar = tarfile.open(\"../Data/NRC-Sentiment-Emotion-Lexicons.tar.gz\", 'r')\n",
    "nrctar.extractall('../Data/NRC_Data')"
   ]
  },
  {
   "cell_type": "code",
   "execution_count": 76,
   "metadata": {},
   "outputs": [],
   "source": [
    "# lines negative reviews\n",
    "neglines = []\n",
    "for nfilename in os.listdir('../Data/Polarity_Data/txt_sentoken/neg'):\n",
    "    open_file = open(('../Data/Polarity_Data/txt_sentoken/neg/' + nfilename),\"r\")\n",
    "    neglines = open_file.readlines()\n",
    "\n",
    "# lines positive reviews\n",
    "poslines = []\n",
    "for pfilename in os.listdir('../Data/Polarity_Data/txt_sentoken/pos'):\n",
    "    open_file = open(('../Data/Polarity_Data/txt_sentoken/pos/' + pfilename),\"r\")\n",
    "    poslines = open_file.readlines()\n",
    "    "
   ]
  },
  {
   "cell_type": "code",
   "execution_count": 77,
   "metadata": {},
   "outputs": [],
   "source": [
    "intensity_file = open('../Data/NRC_Data/NRC-Sentiment-Emotion-Lexicons/NRC-Sentiment-Emotion-Lexicons/NRC-Emotion-Lexicon-v0.92/NRC-Emotion-Lexicon-Wordlevel-v0.92.txt')\n",
    "intensity_lines = intensity_file.readlines()"
   ]
  },
  {
   "cell_type": "code",
   "execution_count": 78,
   "metadata": {},
   "outputs": [],
   "source": [
    "lemmatizer = WordNetLemmatizer()"
   ]
  },
  {
   "cell_type": "code",
   "execution_count": 79,
   "metadata": {},
   "outputs": [],
   "source": [
    "word_emotions = dict()\n",
    "for line in intensity_lines[1:]:\n",
    "    features = line.split()\n",
    "    if features[2] == '1':\n",
    "        word_emotion = (lemmatizer.lemmatize(features[0]), features[1])\n",
    "        word_emotions.update({word_emotion})"
   ]
  },
  {
   "cell_type": "code",
   "execution_count": 80,
   "metadata": {},
   "outputs": [],
   "source": [
    "# tokens positive reviews\n",
    "poslines_tokens = []\n",
    "for line in poslines:\n",
    "    l = []\n",
    "    for word in line.split():\n",
    "        l.append(word)\n",
    "    poslines_tokens.append(l)\n",
    "\n",
    "# tokens negative reviews\n",
    "neglines_tokens = []\n",
    "for line in neglines:\n",
    "    l = []\n",
    "    for word in line.split():\n",
    "        l.append(word)\n",
    "    neglines_tokens.append(l)"
   ]
  },
  {
   "cell_type": "code",
   "execution_count": 81,
   "metadata": {},
   "outputs": [],
   "source": [
    "def clean_tokens(tokens):\n",
    "\n",
    "    cleaned_tokens = []\n",
    "    for token in tokens:\n",
    "        if len(token) != 0 and token not in string.punctuation: \n",
    "            cleaned_tokens.append(lemmatizer.lemmatize(token.lower()))\n",
    "    return cleaned_tokens"
   ]
  },
  {
   "cell_type": "code",
   "execution_count": 82,
   "metadata": {},
   "outputs": [],
   "source": [
    "positive_cleaned_tokens = []\n",
    "negative_cleaned_tokens = []\n",
    "\n",
    "for tokens in poslines_tokens:\n",
    "    positive_cleaned_tokens.append(clean_tokens(tokens))\n",
    "\n",
    "for tokens in neglines_tokens:\n",
    "    negative_cleaned_tokens.append(clean_tokens(tokens))"
   ]
  },
  {
   "cell_type": "code",
   "execution_count": 83,
   "metadata": {},
   "outputs": [],
   "source": [
    "def create_model(cleaned_tokens_list):\n",
    "    for tokens in cleaned_tokens_list:\n",
    "        yield dict([token, True] for token in tokens)"
   ]
  },
  {
   "cell_type": "code",
   "execution_count": 84,
   "metadata": {},
   "outputs": [],
   "source": [
    "positive_tokens_for_model = create_model(positive_cleaned_tokens)\n",
    "negative_tokens_for_model = create_model(negative_cleaned_tokens)"
   ]
  },
  {
   "cell_type": "code",
   "execution_count": 85,
   "metadata": {},
   "outputs": [],
   "source": [
    "positive_dataset = [(t,\"Positive\") for t in positive_tokens_for_model]\n",
    "negative_dataset = [(t,\"Negative\") for t in negative_tokens_for_model]\n"
   ]
  },
  {
   "cell_type": "code",
   "execution_count": 86,
   "metadata": {},
   "outputs": [],
   "source": [
    "positive_emotions = ['positive', 'anticipation', 'joy', 'surprise', 'trust']\n",
    "negative_emotions = ['anger', 'disgust', 'fear', 'negative', 'sadness']"
   ]
  },
  {
   "cell_type": "code",
   "execution_count": 87,
   "metadata": {},
   "outputs": [],
   "source": [
    "pos_to_remove = list()\n",
    "for (review, sentiment) in positive_dataset:\n",
    "    for word in review:\n",
    "        if word in word_emotions and word_emotions[word] in negative_emotions:\n",
    "            pos_to_remove.append(word)\n",
    "\n",
    "for (review, sentiment) in positive_dataset:\n",
    "    for neg_word in pos_to_remove:\n",
    "        if neg_word in review.keys():\n",
    "            review.pop(neg_word)\n"
   ]
  },
  {
   "cell_type": "code",
   "execution_count": 88,
   "metadata": {},
   "outputs": [],
   "source": [
    "dataset = positive_dataset + negative_dataset\n"
   ]
  },
  {
   "cell_type": "code",
   "execution_count": 89,
   "metadata": {},
   "outputs": [],
   "source": [
    "np_dataset = np.array(dataset)"
   ]
  },
  {
   "cell_type": "code",
   "execution_count": 90,
   "metadata": {},
   "outputs": [
    {
     "name": "stdout",
     "output_type": "stream",
     "text": [
      "Naive Bayes accuracy: 0.8552188552188551\n",
      "Naive Bayes precision: 0.8728174603174602\n",
      "\n",
      "\n",
      "Decision Tree accuracy: 0.7777777777777778\n",
      "Decision Tree precision: 0.741247795414462\n",
      "\n",
      "\n",
      "Bernoulli accuracy: 0.8367003367003368\n",
      "Bernoulli precision: 0.7279982363315696\n"
     ]
    }
   ],
   "source": [
    "kfold = KFold(n_splits=9, shuffle=True, random_state=1)\n",
    "nb_mean_accuracy, dt_mean_accuracy, bern_mean_accuracy = list(), list(), list()\n",
    "nb_mean_precision, dt_mean_precision, bern_mean_precision = list(), list(), list()\n",
    "\n",
    "for train, test in kfold.split(np_dataset):\n",
    "    # naive bayes classifier\n",
    "    nb_classifier = NaiveBayesClassifier.train(np_dataset[train])\n",
    "    nb_mean_accuracy.append(classify.accuracy(nb_classifier, np_dataset[test]))\n",
    "\n",
    "    # decitions tree classifier\n",
    "    dt_classifier = DecisionTreeClassifier.train(np_dataset[train])\n",
    "    dt_mean_accuracy.append(classify.accuracy(dt_classifier, np_dataset[test]))\n",
    "\n",
    "    # bernoulli classifier\n",
    "    bern_classifier = SklearnClassifier(BernoulliNB()).train(np_dataset[train])\n",
    "    bern_mean_accuracy.append(classify.accuracy(bern_classifier, np_dataset[test]))\n",
    "    \n",
    "    refsets = collections.defaultdict(set)\n",
    "    testsets = collections.defaultdict(set)\n",
    "\n",
    "    classifiers = [nb_classifier, dt_classifier, bern_classifier]\n",
    "\n",
    "    for classifier in classifiers:\n",
    "        for i, (feats, label) in enumerate(np_dataset[test]):\n",
    "            refsets[label].add(i)\n",
    "            observed = classifier.classify(feats)\n",
    "            testsets[observed].add(i)   \n",
    "\n",
    "        if classifier == nb_classifier:\n",
    "            nb_mean_precision.append(precision(refsets['Positive'], testsets['Positive']))\n",
    "            nb_mean_precision.append(precision(refsets['Negative'], testsets['Negative']))\n",
    "\n",
    "        elif classifier == dt_classifier:\n",
    "            dt_mean_precision.append(precision(refsets['Positive'], testsets['Positive']))\n",
    "            dt_mean_precision.append(precision(refsets['Negative'], testsets['Negative']))\n",
    "\n",
    "        elif classifier == bern_classifier:\n",
    "            bern_mean_precision.append(precision(refsets['Positive'], testsets['Positive']))\n",
    "            bern_mean_precision.append(precision(refsets['Negative'], testsets['Negative']))\n",
    "\n",
    "# print the mean accuracy across all the folds for each classifier\n",
    "print(\"Naive Bayes accuracy:\", np.mean(nb_mean_accuracy))\n",
    "print(\"Naive Bayes precision:\", np.mean(nb_mean_precision))\n",
    "print('\\n')\n",
    "print(\"Decision Tree accuracy:\", np.mean(dt_mean_accuracy))\n",
    "print(\"Decision Tree precision:\", np.mean(dt_mean_precision))\n",
    "print('\\n')\n",
    "print(\"Bernoulli accuracy:\", np.mean(bern_mean_accuracy))\n",
    "print(\"Bernoulli precision:\", np.mean(bern_mean_precision))\n",
    "\n"
   ]
  }
 ],
 "metadata": {
  "kernelspec": {
   "display_name": "Python 3",
   "language": "python",
   "name": "python3"
  },
  "language_info": {
   "codemirror_mode": {
    "name": "ipython",
    "version": 3
   },
   "file_extension": ".py",
   "mimetype": "text/x-python",
   "name": "python",
   "nbconvert_exporter": "python",
   "pygments_lexer": "ipython3",
   "version": "3.12.2"
  },
  "orig_nbformat": 4
 },
 "nbformat": 4,
 "nbformat_minor": 2
}
