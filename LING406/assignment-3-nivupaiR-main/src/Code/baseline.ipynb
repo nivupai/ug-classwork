{
 "cells": [
  {
   "cell_type": "code",
   "execution_count": 1,
   "metadata": {},
   "outputs": [],
   "source": [
    "import pandas as pd  # import pandas library for data manipulation\n",
    "from sklearn.naive_bayes import GaussianNB  # import Gaussian Naive Bayes model from scikit-learn\n",
    "from sklearn.tree import DecisionTreeClassifier  # import Decision Tree Classifier from scikit-learn\n",
    "from sklearn.metrics import f1_score, precision_score, recall_score  # import performance metrics from scikit-learn\n",
    "from sklearn import preprocessing  # import preprocessing module for data preprocessing\n",
    "\n",
    "def buildClassifiers(clf, X_train, X_test, y_train, y_test):\n",
    "    # train the classifier with training data\n",
    "    clf.fit(X_train, y_train)\n",
    "    \n",
    "    # make predictions on the test data\n",
    "    y_pred = clf.predict(X_test)\n",
    "\n",
    "    # evaluate the performance of the classifier using precision, recall, and f1 score\n",
    "    evaluation_metrics = {\n",
    "        'f1': f1_score(y_test, y_pred, average=\"micro\"),\n",
    "        'precision': precision_score(y_test, y_pred, average=\"micro\"),\n",
    "        'recall': recall_score(y_test, y_pred, average=\"micro\")\n",
    "    }\n",
    "    return evaluation_metrics  # return the evaluation metrics as a dictionary\n"
   ]
  },
  {
   "cell_type": "code",
   "execution_count": 9,
   "metadata": {},
   "outputs": [
    {
     "name": "stdout",
     "output_type": "stream",
     "text": [
      "Removing Column 1\n"
     ]
    },
    {
     "name": "stderr",
     "output_type": "stream",
     "text": [
      "/var/folders/72/9drvxttd75dfsgp3t63kq3100000gn/T/ipykernel_60532/1481407187.py:54: RuntimeWarning: invalid value encountered in cast\n",
      "  X_train_enc = le.transform(X_train.values.ravel().reshape(-1, 1)).squeeze().reshape(X_train.shape[0], -1).astype(int)\n",
      "/var/folders/72/9drvxttd75dfsgp3t63kq3100000gn/T/ipykernel_60532/1481407187.py:55: RuntimeWarning: invalid value encountered in cast\n",
      "  X_test_enc = le.transform(X_test.values.ravel().reshape(-1, 1)).squeeze().reshape(X_test.shape[0], -1).astype(int)\n",
      "/Library/Frameworks/Python.framework/Versions/3.12/lib/python3.12/site-packages/sklearn/utils/validation.py:1300: DataConversionWarning: A column-vector y was passed when a 1d array was expected. Please change the shape of y to (n_samples, ), for example using ravel().\n",
      "  y = column_or_1d(y, warn=True)\n"
     ]
    },
    {
     "name": "stdout",
     "output_type": "stream",
     "text": [
      "Now classifying Naive_Bayes\n",
      "\tAverage F1 for Naive_Bayes:\t\t 0.38020608201290174\n",
      "\tAverage Precision for Naive_Bayes:\t 0.38020608201290174\n",
      "\tAverage Recall for Naive_Bayes:\t\t 0.38020608201290174\n",
      "Now classifying Decision_Tree\n",
      "\tAverage F1 for Decision_Tree:\t\t 0.7557767595805905\n",
      "\tAverage Precision for Decision_Tree:\t 0.7557767595805905\n",
      "\tAverage Recall for Decision_Tree:\t\t 0.7557767595805905\n",
      "Removing Column 2\n"
     ]
    },
    {
     "name": "stderr",
     "output_type": "stream",
     "text": [
      "/var/folders/72/9drvxttd75dfsgp3t63kq3100000gn/T/ipykernel_60532/1481407187.py:54: RuntimeWarning: invalid value encountered in cast\n",
      "  X_train_enc = le.transform(X_train.values.ravel().reshape(-1, 1)).squeeze().reshape(X_train.shape[0], -1).astype(int)\n",
      "/var/folders/72/9drvxttd75dfsgp3t63kq3100000gn/T/ipykernel_60532/1481407187.py:55: RuntimeWarning: invalid value encountered in cast\n",
      "  X_test_enc = le.transform(X_test.values.ravel().reshape(-1, 1)).squeeze().reshape(X_test.shape[0], -1).astype(int)\n",
      "/Library/Frameworks/Python.framework/Versions/3.12/lib/python3.12/site-packages/sklearn/utils/validation.py:1300: DataConversionWarning: A column-vector y was passed when a 1d array was expected. Please change the shape of y to (n_samples, ), for example using ravel().\n",
      "  y = column_or_1d(y, warn=True)\n"
     ]
    },
    {
     "name": "stdout",
     "output_type": "stream",
     "text": [
      "Now classifying Naive_Bayes\n",
      "\tAverage F1 for Naive_Bayes:\t\t 0.38020608201290174\n",
      "\tAverage Precision for Naive_Bayes:\t 0.38020608201290174\n",
      "\tAverage Recall for Naive_Bayes:\t\t 0.38020608201290174\n",
      "Now classifying Decision_Tree\n",
      "\tAverage F1 for Decision_Tree:\t\t 0.7557767595805905\n",
      "\tAverage Precision for Decision_Tree:\t 0.7557767595805905\n",
      "\tAverage Recall for Decision_Tree:\t\t 0.7557767595805905\n",
      "Removing Column 3\n"
     ]
    },
    {
     "name": "stderr",
     "output_type": "stream",
     "text": [
      "/var/folders/72/9drvxttd75dfsgp3t63kq3100000gn/T/ipykernel_60532/1481407187.py:54: RuntimeWarning: invalid value encountered in cast\n",
      "  X_train_enc = le.transform(X_train.values.ravel().reshape(-1, 1)).squeeze().reshape(X_train.shape[0], -1).astype(int)\n",
      "/var/folders/72/9drvxttd75dfsgp3t63kq3100000gn/T/ipykernel_60532/1481407187.py:55: RuntimeWarning: invalid value encountered in cast\n",
      "  X_test_enc = le.transform(X_test.values.ravel().reshape(-1, 1)).squeeze().reshape(X_test.shape[0], -1).astype(int)\n",
      "/Library/Frameworks/Python.framework/Versions/3.12/lib/python3.12/site-packages/sklearn/utils/validation.py:1300: DataConversionWarning: A column-vector y was passed when a 1d array was expected. Please change the shape of y to (n_samples, ), for example using ravel().\n",
      "  y = column_or_1d(y, warn=True)\n"
     ]
    },
    {
     "name": "stdout",
     "output_type": "stream",
     "text": [
      "Now classifying Naive_Bayes\n",
      "\tAverage F1 for Naive_Bayes:\t\t 0.38020608201290174\n",
      "\tAverage Precision for Naive_Bayes:\t 0.38020608201290174\n",
      "\tAverage Recall for Naive_Bayes:\t\t 0.38020608201290174\n",
      "Now classifying Decision_Tree\n",
      "\tAverage F1 for Decision_Tree:\t\t 0.7557767595805905\n",
      "\tAverage Precision for Decision_Tree:\t 0.7557767595805905\n",
      "\tAverage Recall for Decision_Tree:\t\t 0.7557767595805905\n",
      "Removing Column 4\n"
     ]
    },
    {
     "name": "stderr",
     "output_type": "stream",
     "text": [
      "/var/folders/72/9drvxttd75dfsgp3t63kq3100000gn/T/ipykernel_60532/1481407187.py:54: RuntimeWarning: invalid value encountered in cast\n",
      "  X_train_enc = le.transform(X_train.values.ravel().reshape(-1, 1)).squeeze().reshape(X_train.shape[0], -1).astype(int)\n",
      "/var/folders/72/9drvxttd75dfsgp3t63kq3100000gn/T/ipykernel_60532/1481407187.py:55: RuntimeWarning: invalid value encountered in cast\n",
      "  X_test_enc = le.transform(X_test.values.ravel().reshape(-1, 1)).squeeze().reshape(X_test.shape[0], -1).astype(int)\n",
      "/Library/Frameworks/Python.framework/Versions/3.12/lib/python3.12/site-packages/sklearn/utils/validation.py:1300: DataConversionWarning: A column-vector y was passed when a 1d array was expected. Please change the shape of y to (n_samples, ), for example using ravel().\n",
      "  y = column_or_1d(y, warn=True)\n"
     ]
    },
    {
     "name": "stdout",
     "output_type": "stream",
     "text": [
      "Now classifying Naive_Bayes\n",
      "\tAverage F1 for Naive_Bayes:\t\t 0.38009904780723963\n",
      "\tAverage Precision for Naive_Bayes:\t 0.38009904780723963\n",
      "\tAverage Recall for Naive_Bayes:\t\t 0.38009904780723963\n",
      "Now classifying Decision_Tree\n",
      "\tAverage F1 for Decision_Tree:\t\t 0.7772330011156258\n",
      "\tAverage Precision for Decision_Tree:\t 0.7772330011156258\n",
      "\tAverage Recall for Decision_Tree:\t\t 0.7772330011156258\n",
      "Removing Column 5\n"
     ]
    },
    {
     "name": "stderr",
     "output_type": "stream",
     "text": [
      "/var/folders/72/9drvxttd75dfsgp3t63kq3100000gn/T/ipykernel_60532/1481407187.py:54: RuntimeWarning: invalid value encountered in cast\n",
      "  X_train_enc = le.transform(X_train.values.ravel().reshape(-1, 1)).squeeze().reshape(X_train.shape[0], -1).astype(int)\n",
      "/var/folders/72/9drvxttd75dfsgp3t63kq3100000gn/T/ipykernel_60532/1481407187.py:55: RuntimeWarning: invalid value encountered in cast\n",
      "  X_test_enc = le.transform(X_test.values.ravel().reshape(-1, 1)).squeeze().reshape(X_test.shape[0], -1).astype(int)\n",
      "/Library/Frameworks/Python.framework/Versions/3.12/lib/python3.12/site-packages/sklearn/utils/validation.py:1300: DataConversionWarning: A column-vector y was passed when a 1d array was expected. Please change the shape of y to (n_samples, ), for example using ravel().\n",
      "  y = column_or_1d(y, warn=True)\n"
     ]
    },
    {
     "name": "stdout",
     "output_type": "stream",
     "text": [
      "Now classifying Naive_Bayes\n",
      "\tAverage F1 for Naive_Bayes:\t\t 0.3800537641048441\n",
      "\tAverage Precision for Naive_Bayes:\t 0.3800537641048441\n",
      "\tAverage Recall for Naive_Bayes:\t\t 0.3800537641048441\n",
      "Now classifying Decision_Tree\n",
      "\tAverage F1 for Decision_Tree:\t\t 0.7762902767657557\n",
      "\tAverage Precision for Decision_Tree:\t 0.7762902767657557\n",
      "\tAverage Recall for Decision_Tree:\t\t 0.7762902767657557\n",
      "Removing Column 6\n"
     ]
    },
    {
     "name": "stderr",
     "output_type": "stream",
     "text": [
      "/var/folders/72/9drvxttd75dfsgp3t63kq3100000gn/T/ipykernel_60532/1481407187.py:54: RuntimeWarning: invalid value encountered in cast\n",
      "  X_train_enc = le.transform(X_train.values.ravel().reshape(-1, 1)).squeeze().reshape(X_train.shape[0], -1).astype(int)\n",
      "/var/folders/72/9drvxttd75dfsgp3t63kq3100000gn/T/ipykernel_60532/1481407187.py:55: RuntimeWarning: invalid value encountered in cast\n",
      "  X_test_enc = le.transform(X_test.values.ravel().reshape(-1, 1)).squeeze().reshape(X_test.shape[0], -1).astype(int)\n",
      "/Library/Frameworks/Python.framework/Versions/3.12/lib/python3.12/site-packages/sklearn/utils/validation.py:1300: DataConversionWarning: A column-vector y was passed when a 1d array was expected. Please change the shape of y to (n_samples, ), for example using ravel().\n",
      "  y = column_or_1d(y, warn=True)\n"
     ]
    },
    {
     "name": "stdout",
     "output_type": "stream",
     "text": [
      "Now classifying Naive_Bayes\n",
      "\tAverage F1 for Naive_Bayes:\t\t 0.3789010880438676\n",
      "\tAverage Precision for Naive_Bayes:\t 0.3789010880438676\n",
      "\tAverage Recall for Naive_Bayes:\t\t 0.3789010880438676\n",
      "Now classifying Decision_Tree\n",
      "\tAverage F1 for Decision_Tree:\t\t 0.7843631258928093\n",
      "\tAverage Precision for Decision_Tree:\t 0.7843631258928093\n",
      "\tAverage Recall for Decision_Tree:\t\t 0.7843631258928093\n",
      "Removing Column 7\n",
      "Now classifying Naive_Bayes\n"
     ]
    },
    {
     "name": "stderr",
     "output_type": "stream",
     "text": [
      "/Library/Frameworks/Python.framework/Versions/3.12/lib/python3.12/site-packages/sklearn/utils/validation.py:1300: DataConversionWarning: A column-vector y was passed when a 1d array was expected. Please change the shape of y to (n_samples, ), for example using ravel().\n",
      "  y = column_or_1d(y, warn=True)\n"
     ]
    },
    {
     "name": "stdout",
     "output_type": "stream",
     "text": [
      "\tAverage F1 for Naive_Bayes:\t\t 0.08410830214932918\n",
      "\tAverage Precision for Naive_Bayes:\t 0.08410830214932918\n",
      "\tAverage Recall for Naive_Bayes:\t\t 0.08410830214932918\n",
      "Now classifying Decision_Tree\n",
      "\tAverage F1 for Decision_Tree:\t\t 0.354126786133307\n",
      "\tAverage Precision for Decision_Tree:\t 0.354126786133307\n",
      "\tAverage Recall for Decision_Tree:\t\t 0.354126786133307\n"
     ]
    }
   ],
   "source": [
    "# load data from CSV files\n",
    "X_train = pd.read_csv(\"X_train.csv\")\n",
    "X_validation = pd.read_csv(\"validation.csv\")\n",
    "X_test = pd.read_csv(\"test.csv\")\n",
    "\n",
    "y_train = pd.read_csv(\"first_label\")\n",
    "y_validation = pd.read_csv(\"validation_first_label\")\n",
    "y_test = pd.read_csv(\"test_first_label\")\n",
    "\n",
    "# reset indices to ensure data alignment after concatenation\n",
    "X_train.reset_index(drop=True, inplace=True)\n",
    "X_validation.reset_index(drop=True, inplace=True)\n",
    "y_train.reset_index(drop=True, inplace=True)\n",
    "y_validation.reset_index(drop=True, inplace=True)\n",
    "\n",
    "# concatenate training and validation datasets for a larger training set\n",
    "X_train = pd.concat([X_train, X_validation])\n",
    "y_train = pd.concat([y_train, y_validation])\n",
    "\n",
    "# create a copy of the combined training data for modifications without affecting the original data\n",
    "df = X_train.copy()\n",
    "\n",
    "# define classifier models for comparison\n",
    "classifiers = {\n",
    "    'Naive_Bayes': GaussianNB(),\n",
    "    'Decision_Tree': DecisionTreeClassifier(random_state=0),\n",
    "    # 'Random_Forest': RandomForestClassifier(random_state=0)  # uncomment to use\n",
    "}\n",
    "\n",
    "def build_classifiers(clf, X_train_enc, X_test_enc, y_train, y_test):\n",
    "    # train classifier on the encoded training data\n",
    "    clf.fit(X_train_enc, y_train)\n",
    "    # predict using the trained classifier on the encoded test data\n",
    "    y_pred = clf.predict(X_test_enc)\n",
    "\n",
    "    # evaluate the classifier performance using f1, precision, and recall\n",
    "    f1 = f1_score(y_test, y_pred, average=\"micro\")\n",
    "    precision = precision_score(y_test, y_pred, average=\"micro\")\n",
    "    recall = recall_score(y_test, y_pred, average=\"micro\")\n",
    "\n",
    "    return f1, precision, recall  # return the performance metrics\n",
    "\n",
    "# feature engineering: removing less relevant columns\n",
    "for i in range(1, 8):\n",
    "    column_name = \"Column \" + str(i)\n",
    "    df[column_name] = \"_\"  # set the value to a placeholder to simulate removal\n",
    "    print(f\"Removing {column_name}\")\n",
    "\n",
    "    # apply ordinal encoding to handle categorical variables in a way that models can interpret\n",
    "    le = preprocessing.OrdinalEncoder(handle_unknown='use_encoded_value', unknown_value=-1)\n",
    "    le.fit(df.values.ravel().reshape(-1, 1))  # fit the encoder to the full dataset to capture all categories\n",
    "\n",
    "    # transform the training and test datasets to numerical format using the fitted encoder\n",
    "    X_train_enc = le.transform(X_train.values.ravel().reshape(-1, 1)).squeeze().reshape(X_train.shape[0], -1).astype(int)\n",
    "    X_test_enc = le.transform(X_test.values.ravel().reshape(-1, 1)).squeeze().reshape(X_test.shape[0], -1).astype(int)\n",
    "\n",
    "    for name, clf in classifiers.items():\n",
    "        print('Now classifying', name)  # notify current classifier in use\n",
    "        f1, precision, recall = build_classifiers(clf, X_train_enc, X_test_enc, y_train, y_test)  # build and evaluate classifiers\n",
    "\n",
    "        # print evaluation scores for the current classifier\n",
    "        print(\"\\tAverage F1 for {}:\\t\\t\".format(name), f1)\n",
    "        print(\"\\tAverage Precision for {}:\\t\".format(name), precision)\n",
    "        print(\"\\tAverage Recall for {}:\\t\\t\".format(name), recall)\n"
   ]
  },
  {
   "cell_type": "code",
   "execution_count": 6,
   "metadata": {},
   "outputs": [
    {
     "name": "stdout",
     "output_type": "stream",
     "text": [
      "Removing Column 1\n"
     ]
    },
    {
     "name": "stderr",
     "output_type": "stream",
     "text": [
      "/var/folders/72/9drvxttd75dfsgp3t63kq3100000gn/T/ipykernel_60532/1229731984.py:54: RuntimeWarning: invalid value encountered in cast\n",
      "  X_train_enc = le.transform(X_train.values.ravel().reshape(-1, 1)).squeeze().reshape(X_train.shape[0], -1).astype(int)\n",
      "/var/folders/72/9drvxttd75dfsgp3t63kq3100000gn/T/ipykernel_60532/1229731984.py:55: RuntimeWarning: invalid value encountered in cast\n",
      "  X_test_enc = le.transform(X_test.values.ravel().reshape(-1, 1)).squeeze().reshape(X_test.shape[0], -1).astype(int)\n",
      "/Library/Frameworks/Python.framework/Versions/3.12/lib/python3.12/site-packages/sklearn/utils/validation.py:1300: DataConversionWarning: A column-vector y was passed when a 1d array was expected. Please change the shape of y to (n_samples, ), for example using ravel().\n",
      "  y = column_or_1d(y, warn=True)\n"
     ]
    },
    {
     "name": "stdout",
     "output_type": "stream",
     "text": [
      "Now classifying Naive_Bayes\n",
      "\tAverage F1 for Naive_Bayes:\t\t 0.38020608201290174\n",
      "\tAverage Precision for Naive_Bayes:\t 0.38020608201290174\n",
      "\tAverage Recall for Naive_Bayes:\t\t 0.38020608201290174\n",
      "Now classifying Decision_Tree\n",
      "\tAverage F1 for Decision_Tree:\t\t 0.7557767595805905\n",
      "\tAverage Precision for Decision_Tree:\t 0.7557767595805905\n",
      "\tAverage Recall for Decision_Tree:\t\t 0.7557767595805905\n",
      "Removing Column 2\n"
     ]
    },
    {
     "name": "stderr",
     "output_type": "stream",
     "text": [
      "/var/folders/72/9drvxttd75dfsgp3t63kq3100000gn/T/ipykernel_60532/1229731984.py:54: RuntimeWarning: invalid value encountered in cast\n",
      "  X_train_enc = le.transform(X_train.values.ravel().reshape(-1, 1)).squeeze().reshape(X_train.shape[0], -1).astype(int)\n",
      "/var/folders/72/9drvxttd75dfsgp3t63kq3100000gn/T/ipykernel_60532/1229731984.py:55: RuntimeWarning: invalid value encountered in cast\n",
      "  X_test_enc = le.transform(X_test.values.ravel().reshape(-1, 1)).squeeze().reshape(X_test.shape[0], -1).astype(int)\n",
      "/Library/Frameworks/Python.framework/Versions/3.12/lib/python3.12/site-packages/sklearn/utils/validation.py:1300: DataConversionWarning: A column-vector y was passed when a 1d array was expected. Please change the shape of y to (n_samples, ), for example using ravel().\n",
      "  y = column_or_1d(y, warn=True)\n"
     ]
    },
    {
     "name": "stdout",
     "output_type": "stream",
     "text": [
      "Now classifying Naive_Bayes\n",
      "\tAverage F1 for Naive_Bayes:\t\t 0.38020608201290174\n",
      "\tAverage Precision for Naive_Bayes:\t 0.38020608201290174\n",
      "\tAverage Recall for Naive_Bayes:\t\t 0.38020608201290174\n",
      "Now classifying Decision_Tree\n",
      "\tAverage F1 for Decision_Tree:\t\t 0.7557767595805905\n",
      "\tAverage Precision for Decision_Tree:\t 0.7557767595805905\n",
      "\tAverage Recall for Decision_Tree:\t\t 0.7557767595805905\n",
      "Removing Column 3\n"
     ]
    },
    {
     "name": "stderr",
     "output_type": "stream",
     "text": [
      "/var/folders/72/9drvxttd75dfsgp3t63kq3100000gn/T/ipykernel_60532/1229731984.py:54: RuntimeWarning: invalid value encountered in cast\n",
      "  X_train_enc = le.transform(X_train.values.ravel().reshape(-1, 1)).squeeze().reshape(X_train.shape[0], -1).astype(int)\n",
      "/var/folders/72/9drvxttd75dfsgp3t63kq3100000gn/T/ipykernel_60532/1229731984.py:55: RuntimeWarning: invalid value encountered in cast\n",
      "  X_test_enc = le.transform(X_test.values.ravel().reshape(-1, 1)).squeeze().reshape(X_test.shape[0], -1).astype(int)\n",
      "/Library/Frameworks/Python.framework/Versions/3.12/lib/python3.12/site-packages/sklearn/utils/validation.py:1300: DataConversionWarning: A column-vector y was passed when a 1d array was expected. Please change the shape of y to (n_samples, ), for example using ravel().\n",
      "  y = column_or_1d(y, warn=True)\n"
     ]
    },
    {
     "name": "stdout",
     "output_type": "stream",
     "text": [
      "Now classifying Naive_Bayes\n",
      "\tAverage F1 for Naive_Bayes:\t\t 0.38020608201290174\n",
      "\tAverage Precision for Naive_Bayes:\t 0.38020608201290174\n",
      "\tAverage Recall for Naive_Bayes:\t\t 0.38020608201290174\n",
      "Now classifying Decision_Tree\n",
      "\tAverage F1 for Decision_Tree:\t\t 0.7557767595805905\n",
      "\tAverage Precision for Decision_Tree:\t 0.7557767595805905\n",
      "\tAverage Recall for Decision_Tree:\t\t 0.7557767595805905\n",
      "Removing Column 4\n"
     ]
    },
    {
     "name": "stderr",
     "output_type": "stream",
     "text": [
      "/var/folders/72/9drvxttd75dfsgp3t63kq3100000gn/T/ipykernel_60532/1229731984.py:54: RuntimeWarning: invalid value encountered in cast\n",
      "  X_train_enc = le.transform(X_train.values.ravel().reshape(-1, 1)).squeeze().reshape(X_train.shape[0], -1).astype(int)\n",
      "/var/folders/72/9drvxttd75dfsgp3t63kq3100000gn/T/ipykernel_60532/1229731984.py:55: RuntimeWarning: invalid value encountered in cast\n",
      "  X_test_enc = le.transform(X_test.values.ravel().reshape(-1, 1)).squeeze().reshape(X_test.shape[0], -1).astype(int)\n",
      "/Library/Frameworks/Python.framework/Versions/3.12/lib/python3.12/site-packages/sklearn/utils/validation.py:1300: DataConversionWarning: A column-vector y was passed when a 1d array was expected. Please change the shape of y to (n_samples, ), for example using ravel().\n",
      "  y = column_or_1d(y, warn=True)\n"
     ]
    },
    {
     "name": "stdout",
     "output_type": "stream",
     "text": [
      "Now classifying Naive_Bayes\n",
      "\tAverage F1 for Naive_Bayes:\t\t 0.38009904780723963\n",
      "\tAverage Precision for Naive_Bayes:\t 0.38009904780723963\n",
      "\tAverage Recall for Naive_Bayes:\t\t 0.38009904780723963\n",
      "Now classifying Decision_Tree\n",
      "\tAverage F1 for Decision_Tree:\t\t 0.7772330011156258\n",
      "\tAverage Precision for Decision_Tree:\t 0.7772330011156258\n",
      "\tAverage Recall for Decision_Tree:\t\t 0.7772330011156258\n",
      "Removing Column 5\n"
     ]
    },
    {
     "name": "stderr",
     "output_type": "stream",
     "text": [
      "/var/folders/72/9drvxttd75dfsgp3t63kq3100000gn/T/ipykernel_60532/1229731984.py:54: RuntimeWarning: invalid value encountered in cast\n",
      "  X_train_enc = le.transform(X_train.values.ravel().reshape(-1, 1)).squeeze().reshape(X_train.shape[0], -1).astype(int)\n",
      "/var/folders/72/9drvxttd75dfsgp3t63kq3100000gn/T/ipykernel_60532/1229731984.py:55: RuntimeWarning: invalid value encountered in cast\n",
      "  X_test_enc = le.transform(X_test.values.ravel().reshape(-1, 1)).squeeze().reshape(X_test.shape[0], -1).astype(int)\n",
      "/Library/Frameworks/Python.framework/Versions/3.12/lib/python3.12/site-packages/sklearn/utils/validation.py:1300: DataConversionWarning: A column-vector y was passed when a 1d array was expected. Please change the shape of y to (n_samples, ), for example using ravel().\n",
      "  y = column_or_1d(y, warn=True)\n"
     ]
    },
    {
     "name": "stdout",
     "output_type": "stream",
     "text": [
      "Now classifying Naive_Bayes\n",
      "\tAverage F1 for Naive_Bayes:\t\t 0.3800537641048441\n",
      "\tAverage Precision for Naive_Bayes:\t 0.3800537641048441\n",
      "\tAverage Recall for Naive_Bayes:\t\t 0.3800537641048441\n",
      "Now classifying Decision_Tree\n",
      "\tAverage F1 for Decision_Tree:\t\t 0.7762902767657557\n",
      "\tAverage Precision for Decision_Tree:\t 0.7762902767657557\n",
      "\tAverage Recall for Decision_Tree:\t\t 0.7762902767657557\n",
      "Removing Column 6\n"
     ]
    },
    {
     "name": "stderr",
     "output_type": "stream",
     "text": [
      "/var/folders/72/9drvxttd75dfsgp3t63kq3100000gn/T/ipykernel_60532/1229731984.py:54: RuntimeWarning: invalid value encountered in cast\n",
      "  X_train_enc = le.transform(X_train.values.ravel().reshape(-1, 1)).squeeze().reshape(X_train.shape[0], -1).astype(int)\n",
      "/var/folders/72/9drvxttd75dfsgp3t63kq3100000gn/T/ipykernel_60532/1229731984.py:55: RuntimeWarning: invalid value encountered in cast\n",
      "  X_test_enc = le.transform(X_test.values.ravel().reshape(-1, 1)).squeeze().reshape(X_test.shape[0], -1).astype(int)\n",
      "/Library/Frameworks/Python.framework/Versions/3.12/lib/python3.12/site-packages/sklearn/utils/validation.py:1300: DataConversionWarning: A column-vector y was passed when a 1d array was expected. Please change the shape of y to (n_samples, ), for example using ravel().\n",
      "  y = column_or_1d(y, warn=True)\n"
     ]
    },
    {
     "name": "stdout",
     "output_type": "stream",
     "text": [
      "Now classifying Naive_Bayes\n",
      "\tAverage F1 for Naive_Bayes:\t\t 0.3789010880438676\n",
      "\tAverage Precision for Naive_Bayes:\t 0.3789010880438676\n",
      "\tAverage Recall for Naive_Bayes:\t\t 0.3789010880438676\n",
      "Now classifying Decision_Tree\n",
      "\tAverage F1 for Decision_Tree:\t\t 0.7843631258928093\n",
      "\tAverage Precision for Decision_Tree:\t 0.7843631258928093\n",
      "\tAverage Recall for Decision_Tree:\t\t 0.7843631258928093\n",
      "Removing Column 7\n",
      "Now classifying Naive_Bayes\n"
     ]
    },
    {
     "name": "stderr",
     "output_type": "stream",
     "text": [
      "/Library/Frameworks/Python.framework/Versions/3.12/lib/python3.12/site-packages/sklearn/utils/validation.py:1300: DataConversionWarning: A column-vector y was passed when a 1d array was expected. Please change the shape of y to (n_samples, ), for example using ravel().\n",
      "  y = column_or_1d(y, warn=True)\n"
     ]
    },
    {
     "name": "stdout",
     "output_type": "stream",
     "text": [
      "\tAverage F1 for Naive_Bayes:\t\t 0.08410830214932918\n",
      "\tAverage Precision for Naive_Bayes:\t 0.08410830214932918\n",
      "\tAverage Recall for Naive_Bayes:\t\t 0.08410830214932918\n",
      "Now classifying Decision_Tree\n",
      "\tAverage F1 for Decision_Tree:\t\t 0.354126786133307\n",
      "\tAverage Precision for Decision_Tree:\t 0.354126786133307\n",
      "\tAverage Recall for Decision_Tree:\t\t 0.354126786133307\n",
      "Removing Column 8\n",
      "Now classifying Naive_Bayes\n"
     ]
    },
    {
     "name": "stderr",
     "output_type": "stream",
     "text": [
      "/Library/Frameworks/Python.framework/Versions/3.12/lib/python3.12/site-packages/sklearn/utils/validation.py:1300: DataConversionWarning: A column-vector y was passed when a 1d array was expected. Please change the shape of y to (n_samples, ), for example using ravel().\n",
      "  y = column_or_1d(y, warn=True)\n"
     ]
    },
    {
     "name": "stdout",
     "output_type": "stream",
     "text": [
      "\tAverage F1 for Naive_Bayes:\t\t 0.08410830214932918\n",
      "\tAverage Precision for Naive_Bayes:\t 0.08410830214932918\n",
      "\tAverage Recall for Naive_Bayes:\t\t 0.08410830214932918\n",
      "Now classifying Decision_Tree\n",
      "\tAverage F1 for Decision_Tree:\t\t 0.354126786133307\n",
      "\tAverage Precision for Decision_Tree:\t 0.354126786133307\n",
      "\tAverage Recall for Decision_Tree:\t\t 0.354126786133307\n",
      "Removing Column 9\n",
      "Now classifying Naive_Bayes\n"
     ]
    },
    {
     "name": "stderr",
     "output_type": "stream",
     "text": [
      "/Library/Frameworks/Python.framework/Versions/3.12/lib/python3.12/site-packages/sklearn/utils/validation.py:1300: DataConversionWarning: A column-vector y was passed when a 1d array was expected. Please change the shape of y to (n_samples, ), for example using ravel().\n",
      "  y = column_or_1d(y, warn=True)\n"
     ]
    },
    {
     "name": "stdout",
     "output_type": "stream",
     "text": [
      "\tAverage F1 for Naive_Bayes:\t\t 0.08410830214932918\n",
      "\tAverage Precision for Naive_Bayes:\t 0.08410830214932918\n",
      "\tAverage Recall for Naive_Bayes:\t\t 0.08410830214932918\n",
      "Now classifying Decision_Tree\n",
      "\tAverage F1 for Decision_Tree:\t\t 0.354126786133307\n",
      "\tAverage Precision for Decision_Tree:\t 0.354126786133307\n",
      "\tAverage Recall for Decision_Tree:\t\t 0.354126786133307\n"
     ]
    }
   ],
   "source": [
    "# load data from CSV files\n",
    "X_train = pd.read_csv(\"X_train.csv\")\n",
    "X_validation = pd.read_csv(\"validation.csv\")\n",
    "X_test = pd.read_csv(\"test.csv\")\n",
    "\n",
    "y_train = pd.read_csv(\"first_label\")\n",
    "y_validation = pd.read_csv(\"validation_first_label\")\n",
    "y_test = pd.read_csv(\"test_first_label\")\n",
    "\n",
    "# reset indices to ensure data alignment after concatenation\n",
    "X_train.reset_index(drop=True, inplace=True)\n",
    "X_validation.reset_index(drop=True, inplace=True)\n",
    "y_train.reset_index(drop=True, inplace=True)\n",
    "y_validation.reset_index(drop=True, inplace=True)\n",
    "\n",
    "# concatenate training and validation datasets for a larger training set\n",
    "X_train = pd.concat([X_train, X_validation])\n",
    "y_train = pd.concat([y_train, y_validation])\n",
    "\n",
    "# create a copy of the combined training data for modifications without affecting the original data\n",
    "df = X_train.copy()\n",
    "\n",
    "# define classifier models for comparison\n",
    "classifiers = {\n",
    "    'Naive_Bayes': GaussianNB(),\n",
    "    'Decision_Tree': DecisionTreeClassifier(random_state=0),\n",
    "    # 'Random_Forest': RandomForestClassifier(random_state=0)  # uncomment to use\n",
    "}\n",
    "\n",
    "def build_classifiers(clf, X_train_enc, X_test_enc, y_train, y_test):\n",
    "    # train classifier on the encoded training data\n",
    "    clf.fit(X_train_enc, y_train)\n",
    "    # predict using the trained classifier on the encoded test data\n",
    "    y_pred = clf.predict(X_test_enc)\n",
    "\n",
    "    # evaluate the classifier performance using f1, precision, and recall\n",
    "    f1 = f1_score(y_test, y_pred, average=\"micro\")\n",
    "    precision = precision_score(y_test, y_pred, average=\"micro\")\n",
    "    recall = recall_score(y_test, y_pred, average=\"micro\")\n",
    "\n",
    "    return f1, precision, recall  # return the performance metrics\n",
    "\n",
    "# feature engineering: removing less relevant columns\n",
    "for i in range(1, 10):\n",
    "    column_name = \"Column \" + str(i)\n",
    "    df[column_name] = \"_\"  # set the value to a placeholder to simulate removal\n",
    "    print(f\"Removing {column_name}\")\n",
    "\n",
    "    # apply ordinal encoding to handle categorical variables in a way that models can interpret\n",
    "    le = preprocessing.OrdinalEncoder(handle_unknown='use_encoded_value', unknown_value=-1)\n",
    "    le.fit(df.values.ravel().reshape(-1, 1))  # fit the encoder to the full dataset to capture all categories\n",
    "\n",
    "    # transform the training and test datasets to numerical format using the fitted encoder\n",
    "    X_train_enc = le.transform(X_train.values.ravel().reshape(-1, 1)).squeeze().reshape(X_train.shape[0], -1).astype(int)\n",
    "    X_test_enc = le.transform(X_test.values.ravel().reshape(-1, 1)).squeeze().reshape(X_test.shape[0], -1).astype(int)\n",
    "\n",
    "    for name, clf in classifiers.items():\n",
    "        print('Now classifying', name)  # notify current classifier in use\n",
    "        f1, precision, recall = build_classifiers(clf, X_train_enc, X_test_enc, y_train, y_test)  # build and evaluate classifiers\n",
    "\n",
    "        # print evaluation scores for the current classifier\n",
    "        print(\"\\tAverage F1 for {}:\\t\\t\".format(name), f1)\n",
    "        print(\"\\tAverage Precision for {}:\\t\".format(name), precision)\n",
    "        print(\"\\tAverage Recall for {}:\\t\\t\".format(name), recall)\n"
   ]
  },
  {
   "cell_type": "code",
   "execution_count": 7,
   "metadata": {},
   "outputs": [
    {
     "name": "stdout",
     "output_type": "stream",
     "text": [
      "Removing Column 1\n"
     ]
    },
    {
     "name": "stderr",
     "output_type": "stream",
     "text": [
      "/var/folders/72/9drvxttd75dfsgp3t63kq3100000gn/T/ipykernel_60532/2865706286.py:54: RuntimeWarning: invalid value encountered in cast\n",
      "  X_train_enc = le.transform(X_train.values.ravel().reshape(-1, 1)).squeeze().reshape(X_train.shape[0], -1).astype(int)\n",
      "/var/folders/72/9drvxttd75dfsgp3t63kq3100000gn/T/ipykernel_60532/2865706286.py:55: RuntimeWarning: invalid value encountered in cast\n",
      "  X_test_enc = le.transform(X_test.values.ravel().reshape(-1, 1)).squeeze().reshape(X_test.shape[0], -1).astype(int)\n",
      "/Library/Frameworks/Python.framework/Versions/3.12/lib/python3.12/site-packages/sklearn/utils/validation.py:1300: DataConversionWarning: A column-vector y was passed when a 1d array was expected. Please change the shape of y to (n_samples, ), for example using ravel().\n",
      "  y = column_or_1d(y, warn=True)\n"
     ]
    },
    {
     "name": "stdout",
     "output_type": "stream",
     "text": [
      "Now classifying Naive_Bayes\n",
      "\tAverage F1 for Naive_Bayes:\t\t 0.38020608201290174\n",
      "\tAverage Precision for Naive_Bayes:\t 0.38020608201290174\n",
      "\tAverage Recall for Naive_Bayes:\t\t 0.38020608201290174\n",
      "Now classifying Decision_Tree\n",
      "\tAverage F1 for Decision_Tree:\t\t 0.7557767595805905\n",
      "\tAverage Precision for Decision_Tree:\t 0.7557767595805905\n",
      "\tAverage Recall for Decision_Tree:\t\t 0.7557767595805905\n",
      "Removing Column 2\n"
     ]
    },
    {
     "name": "stderr",
     "output_type": "stream",
     "text": [
      "/var/folders/72/9drvxttd75dfsgp3t63kq3100000gn/T/ipykernel_60532/2865706286.py:54: RuntimeWarning: invalid value encountered in cast\n",
      "  X_train_enc = le.transform(X_train.values.ravel().reshape(-1, 1)).squeeze().reshape(X_train.shape[0], -1).astype(int)\n",
      "/var/folders/72/9drvxttd75dfsgp3t63kq3100000gn/T/ipykernel_60532/2865706286.py:55: RuntimeWarning: invalid value encountered in cast\n",
      "  X_test_enc = le.transform(X_test.values.ravel().reshape(-1, 1)).squeeze().reshape(X_test.shape[0], -1).astype(int)\n",
      "/Library/Frameworks/Python.framework/Versions/3.12/lib/python3.12/site-packages/sklearn/utils/validation.py:1300: DataConversionWarning: A column-vector y was passed when a 1d array was expected. Please change the shape of y to (n_samples, ), for example using ravel().\n",
      "  y = column_or_1d(y, warn=True)\n"
     ]
    },
    {
     "name": "stdout",
     "output_type": "stream",
     "text": [
      "Now classifying Naive_Bayes\n",
      "\tAverage F1 for Naive_Bayes:\t\t 0.38020608201290174\n",
      "\tAverage Precision for Naive_Bayes:\t 0.38020608201290174\n",
      "\tAverage Recall for Naive_Bayes:\t\t 0.38020608201290174\n",
      "Now classifying Decision_Tree\n",
      "\tAverage F1 for Decision_Tree:\t\t 0.7557767595805905\n",
      "\tAverage Precision for Decision_Tree:\t 0.7557767595805905\n",
      "\tAverage Recall for Decision_Tree:\t\t 0.7557767595805905\n",
      "Removing Column 3\n"
     ]
    },
    {
     "name": "stderr",
     "output_type": "stream",
     "text": [
      "/var/folders/72/9drvxttd75dfsgp3t63kq3100000gn/T/ipykernel_60532/2865706286.py:54: RuntimeWarning: invalid value encountered in cast\n",
      "  X_train_enc = le.transform(X_train.values.ravel().reshape(-1, 1)).squeeze().reshape(X_train.shape[0], -1).astype(int)\n",
      "/var/folders/72/9drvxttd75dfsgp3t63kq3100000gn/T/ipykernel_60532/2865706286.py:55: RuntimeWarning: invalid value encountered in cast\n",
      "  X_test_enc = le.transform(X_test.values.ravel().reshape(-1, 1)).squeeze().reshape(X_test.shape[0], -1).astype(int)\n",
      "/Library/Frameworks/Python.framework/Versions/3.12/lib/python3.12/site-packages/sklearn/utils/validation.py:1300: DataConversionWarning: A column-vector y was passed when a 1d array was expected. Please change the shape of y to (n_samples, ), for example using ravel().\n",
      "  y = column_or_1d(y, warn=True)\n"
     ]
    },
    {
     "name": "stdout",
     "output_type": "stream",
     "text": [
      "Now classifying Naive_Bayes\n",
      "\tAverage F1 for Naive_Bayes:\t\t 0.38020608201290174\n",
      "\tAverage Precision for Naive_Bayes:\t 0.38020608201290174\n",
      "\tAverage Recall for Naive_Bayes:\t\t 0.38020608201290174\n",
      "Now classifying Decision_Tree\n",
      "\tAverage F1 for Decision_Tree:\t\t 0.7557767595805905\n",
      "\tAverage Precision for Decision_Tree:\t 0.7557767595805905\n",
      "\tAverage Recall for Decision_Tree:\t\t 0.7557767595805905\n",
      "Removing Column 4\n"
     ]
    },
    {
     "name": "stderr",
     "output_type": "stream",
     "text": [
      "/var/folders/72/9drvxttd75dfsgp3t63kq3100000gn/T/ipykernel_60532/2865706286.py:54: RuntimeWarning: invalid value encountered in cast\n",
      "  X_train_enc = le.transform(X_train.values.ravel().reshape(-1, 1)).squeeze().reshape(X_train.shape[0], -1).astype(int)\n",
      "/var/folders/72/9drvxttd75dfsgp3t63kq3100000gn/T/ipykernel_60532/2865706286.py:55: RuntimeWarning: invalid value encountered in cast\n",
      "  X_test_enc = le.transform(X_test.values.ravel().reshape(-1, 1)).squeeze().reshape(X_test.shape[0], -1).astype(int)\n",
      "/Library/Frameworks/Python.framework/Versions/3.12/lib/python3.12/site-packages/sklearn/utils/validation.py:1300: DataConversionWarning: A column-vector y was passed when a 1d array was expected. Please change the shape of y to (n_samples, ), for example using ravel().\n",
      "  y = column_or_1d(y, warn=True)\n"
     ]
    },
    {
     "name": "stdout",
     "output_type": "stream",
     "text": [
      "Now classifying Naive_Bayes\n",
      "\tAverage F1 for Naive_Bayes:\t\t 0.38009904780723963\n",
      "\tAverage Precision for Naive_Bayes:\t 0.38009904780723963\n",
      "\tAverage Recall for Naive_Bayes:\t\t 0.38009904780723963\n",
      "Now classifying Decision_Tree\n",
      "\tAverage F1 for Decision_Tree:\t\t 0.7772330011156258\n",
      "\tAverage Precision for Decision_Tree:\t 0.7772330011156258\n",
      "\tAverage Recall for Decision_Tree:\t\t 0.7772330011156258\n",
      "Removing Column 5\n"
     ]
    },
    {
     "name": "stderr",
     "output_type": "stream",
     "text": [
      "/var/folders/72/9drvxttd75dfsgp3t63kq3100000gn/T/ipykernel_60532/2865706286.py:54: RuntimeWarning: invalid value encountered in cast\n",
      "  X_train_enc = le.transform(X_train.values.ravel().reshape(-1, 1)).squeeze().reshape(X_train.shape[0], -1).astype(int)\n",
      "/var/folders/72/9drvxttd75dfsgp3t63kq3100000gn/T/ipykernel_60532/2865706286.py:55: RuntimeWarning: invalid value encountered in cast\n",
      "  X_test_enc = le.transform(X_test.values.ravel().reshape(-1, 1)).squeeze().reshape(X_test.shape[0], -1).astype(int)\n",
      "/Library/Frameworks/Python.framework/Versions/3.12/lib/python3.12/site-packages/sklearn/utils/validation.py:1300: DataConversionWarning: A column-vector y was passed when a 1d array was expected. Please change the shape of y to (n_samples, ), for example using ravel().\n",
      "  y = column_or_1d(y, warn=True)\n"
     ]
    },
    {
     "name": "stdout",
     "output_type": "stream",
     "text": [
      "Now classifying Naive_Bayes\n",
      "\tAverage F1 for Naive_Bayes:\t\t 0.3800537641048441\n",
      "\tAverage Precision for Naive_Bayes:\t 0.3800537641048441\n",
      "\tAverage Recall for Naive_Bayes:\t\t 0.3800537641048441\n",
      "Now classifying Decision_Tree\n",
      "\tAverage F1 for Decision_Tree:\t\t 0.7762902767657557\n",
      "\tAverage Precision for Decision_Tree:\t 0.7762902767657557\n",
      "\tAverage Recall for Decision_Tree:\t\t 0.7762902767657557\n"
     ]
    }
   ],
   "source": [
    "# load data from CSV files\n",
    "X_train = pd.read_csv(\"X_train.csv\")\n",
    "X_validation = pd.read_csv(\"validation.csv\")\n",
    "X_test = pd.read_csv(\"test.csv\")\n",
    "\n",
    "y_train = pd.read_csv(\"first_label\")\n",
    "y_validation = pd.read_csv(\"validation_first_label\")\n",
    "y_test = pd.read_csv(\"test_first_label\")\n",
    "\n",
    "# reset indices to ensure data alignment after concatenation\n",
    "X_train.reset_index(drop=True, inplace=True)\n",
    "X_validation.reset_index(drop=True, inplace=True)\n",
    "y_train.reset_index(drop=True, inplace=True)\n",
    "y_validation.reset_index(drop=True, inplace=True)\n",
    "\n",
    "# concatenate training and validation datasets for a larger training set\n",
    "X_train = pd.concat([X_train, X_validation])\n",
    "y_train = pd.concat([y_train, y_validation])\n",
    "\n",
    "# create a copy of the combined training data for modifications without affecting the original data\n",
    "df = X_train.copy()\n",
    "\n",
    "# define classifier models for comparison\n",
    "classifiers = {\n",
    "    'Naive_Bayes': GaussianNB(),\n",
    "    'Decision_Tree': DecisionTreeClassifier(random_state=0),\n",
    "    # 'Random_Forest': RandomForestClassifier(random_state=0)  # uncomment to use\n",
    "}\n",
    "\n",
    "def build_classifiers(clf, X_train_enc, X_test_enc, y_train, y_test):\n",
    "    # train classifier on the encoded training data\n",
    "    clf.fit(X_train_enc, y_train)\n",
    "    # predict using the trained classifier on the encoded test data\n",
    "    y_pred = clf.predict(X_test_enc)\n",
    "\n",
    "    # evaluate the classifier performance using f1, precision, and recall\n",
    "    f1 = f1_score(y_test, y_pred, average=\"micro\")\n",
    "    precision = precision_score(y_test, y_pred, average=\"micro\")\n",
    "    recall = recall_score(y_test, y_pred, average=\"micro\")\n",
    "\n",
    "    return f1, precision, recall  # return the performance metrics\n",
    "\n",
    "# feature engineering: removing less relevant columns\n",
    "for i in range(1, 6):\n",
    "    column_name = \"Column \" + str(i)\n",
    "    df[column_name] = \"_\"  # set the value to a placeholder to simulate removal\n",
    "    print(f\"Removing {column_name}\")\n",
    "\n",
    "    # apply ordinal encoding to handle categorical variables in a way that models can interpret\n",
    "    le = preprocessing.OrdinalEncoder(handle_unknown='use_encoded_value', unknown_value=-1)\n",
    "    le.fit(df.values.ravel().reshape(-1, 1))  # fit the encoder to the full dataset to capture all categories\n",
    "\n",
    "    # transform the training and test datasets to numerical format using the fitted encoder\n",
    "    X_train_enc = le.transform(X_train.values.ravel().reshape(-1, 1)).squeeze().reshape(X_train.shape[0], -1).astype(int)\n",
    "    X_test_enc = le.transform(X_test.values.ravel().reshape(-1, 1)).squeeze().reshape(X_test.shape[0], -1).astype(int)\n",
    "\n",
    "    for name, clf in classifiers.items():\n",
    "        print('Now classifying', name)  # notify current classifier in use\n",
    "        f1, precision, recall = build_classifiers(clf, X_train_enc, X_test_enc, y_train, y_test)  # build and evaluate classifiers\n",
    "\n",
    "        # print evaluation scores for the current classifier\n",
    "        print(\"\\tAverage F1 for {}:\\t\\t\".format(name), f1)\n",
    "        print(\"\\tAverage Precision for {}:\\t\".format(name), precision)\n",
    "        print(\"\\tAverage Recall for {}:\\t\\t\".format(name), recall)\n"
   ]
  },
  {
   "cell_type": "code",
   "execution_count": 8,
   "metadata": {},
   "outputs": [
    {
     "name": "stdout",
     "output_type": "stream",
     "text": [
      "Removing Column 1\n"
     ]
    },
    {
     "name": "stderr",
     "output_type": "stream",
     "text": [
      "/var/folders/72/9drvxttd75dfsgp3t63kq3100000gn/T/ipykernel_60532/1613128950.py:54: RuntimeWarning: invalid value encountered in cast\n",
      "  X_train_enc = le.transform(X_train.values.ravel().reshape(-1, 1)).squeeze().reshape(X_train.shape[0], -1).astype(int)\n",
      "/var/folders/72/9drvxttd75dfsgp3t63kq3100000gn/T/ipykernel_60532/1613128950.py:55: RuntimeWarning: invalid value encountered in cast\n",
      "  X_test_enc = le.transform(X_test.values.ravel().reshape(-1, 1)).squeeze().reshape(X_test.shape[0], -1).astype(int)\n",
      "/Library/Frameworks/Python.framework/Versions/3.12/lib/python3.12/site-packages/sklearn/utils/validation.py:1300: DataConversionWarning: A column-vector y was passed when a 1d array was expected. Please change the shape of y to (n_samples, ), for example using ravel().\n",
      "  y = column_or_1d(y, warn=True)\n"
     ]
    },
    {
     "name": "stdout",
     "output_type": "stream",
     "text": [
      "Now classifying Naive_Bayes\n",
      "\tAverage F1 for Naive_Bayes:\t\t 0.38020608201290174\n",
      "\tAverage Precision for Naive_Bayes:\t 0.38020608201290174\n",
      "\tAverage Recall for Naive_Bayes:\t\t 0.38020608201290174\n",
      "Now classifying Decision_Tree\n",
      "\tAverage F1 for Decision_Tree:\t\t 0.7557767595805905\n",
      "\tAverage Precision for Decision_Tree:\t 0.7557767595805905\n",
      "\tAverage Recall for Decision_Tree:\t\t 0.7557767595805905\n",
      "Removing Column 2\n"
     ]
    },
    {
     "name": "stderr",
     "output_type": "stream",
     "text": [
      "/var/folders/72/9drvxttd75dfsgp3t63kq3100000gn/T/ipykernel_60532/1613128950.py:54: RuntimeWarning: invalid value encountered in cast\n",
      "  X_train_enc = le.transform(X_train.values.ravel().reshape(-1, 1)).squeeze().reshape(X_train.shape[0], -1).astype(int)\n",
      "/var/folders/72/9drvxttd75dfsgp3t63kq3100000gn/T/ipykernel_60532/1613128950.py:55: RuntimeWarning: invalid value encountered in cast\n",
      "  X_test_enc = le.transform(X_test.values.ravel().reshape(-1, 1)).squeeze().reshape(X_test.shape[0], -1).astype(int)\n",
      "/Library/Frameworks/Python.framework/Versions/3.12/lib/python3.12/site-packages/sklearn/utils/validation.py:1300: DataConversionWarning: A column-vector y was passed when a 1d array was expected. Please change the shape of y to (n_samples, ), for example using ravel().\n",
      "  y = column_or_1d(y, warn=True)\n"
     ]
    },
    {
     "name": "stdout",
     "output_type": "stream",
     "text": [
      "Now classifying Naive_Bayes\n",
      "\tAverage F1 for Naive_Bayes:\t\t 0.38020608201290174\n",
      "\tAverage Precision for Naive_Bayes:\t 0.38020608201290174\n",
      "\tAverage Recall for Naive_Bayes:\t\t 0.38020608201290174\n",
      "Now classifying Decision_Tree\n",
      "\tAverage F1 for Decision_Tree:\t\t 0.7557767595805905\n",
      "\tAverage Precision for Decision_Tree:\t 0.7557767595805905\n",
      "\tAverage Recall for Decision_Tree:\t\t 0.7557767595805905\n",
      "Removing Column 3\n"
     ]
    },
    {
     "name": "stderr",
     "output_type": "stream",
     "text": [
      "/var/folders/72/9drvxttd75dfsgp3t63kq3100000gn/T/ipykernel_60532/1613128950.py:54: RuntimeWarning: invalid value encountered in cast\n",
      "  X_train_enc = le.transform(X_train.values.ravel().reshape(-1, 1)).squeeze().reshape(X_train.shape[0], -1).astype(int)\n",
      "/var/folders/72/9drvxttd75dfsgp3t63kq3100000gn/T/ipykernel_60532/1613128950.py:55: RuntimeWarning: invalid value encountered in cast\n",
      "  X_test_enc = le.transform(X_test.values.ravel().reshape(-1, 1)).squeeze().reshape(X_test.shape[0], -1).astype(int)\n",
      "/Library/Frameworks/Python.framework/Versions/3.12/lib/python3.12/site-packages/sklearn/utils/validation.py:1300: DataConversionWarning: A column-vector y was passed when a 1d array was expected. Please change the shape of y to (n_samples, ), for example using ravel().\n",
      "  y = column_or_1d(y, warn=True)\n"
     ]
    },
    {
     "name": "stdout",
     "output_type": "stream",
     "text": [
      "Now classifying Naive_Bayes\n",
      "\tAverage F1 for Naive_Bayes:\t\t 0.38020608201290174\n",
      "\tAverage Precision for Naive_Bayes:\t 0.38020608201290174\n",
      "\tAverage Recall for Naive_Bayes:\t\t 0.38020608201290174\n",
      "Now classifying Decision_Tree\n",
      "\tAverage F1 for Decision_Tree:\t\t 0.7557767595805905\n",
      "\tAverage Precision for Decision_Tree:\t 0.7557767595805905\n",
      "\tAverage Recall for Decision_Tree:\t\t 0.7557767595805905\n"
     ]
    }
   ],
   "source": [
    "# load data from CSV files\n",
    "X_train = pd.read_csv(\"X_train.csv\")\n",
    "X_validation = pd.read_csv(\"validation.csv\")\n",
    "X_test = pd.read_csv(\"test.csv\")\n",
    "\n",
    "y_train = pd.read_csv(\"first_label\")\n",
    "y_validation = pd.read_csv(\"validation_first_label\")\n",
    "y_test = pd.read_csv(\"test_first_label\")\n",
    "\n",
    "# reset indices to ensure data alignment after concatenation\n",
    "X_train.reset_index(drop=True, inplace=True)\n",
    "X_validation.reset_index(drop=True, inplace=True)\n",
    "y_train.reset_index(drop=True, inplace=True)\n",
    "y_validation.reset_index(drop=True, inplace=True)\n",
    "\n",
    "# concatenate training and validation datasets for a larger training set\n",
    "X_train = pd.concat([X_train, X_validation])\n",
    "y_train = pd.concat([y_train, y_validation])\n",
    "\n",
    "# create a copy of the combined training data for modifications without affecting the original data\n",
    "df = X_train.copy()\n",
    "\n",
    "# define classifier models for comparison\n",
    "classifiers = {\n",
    "    'Naive_Bayes': GaussianNB(),\n",
    "    'Decision_Tree': DecisionTreeClassifier(random_state=0),\n",
    "    # 'Random_Forest': RandomForestClassifier(random_state=0)  # uncomment to use\n",
    "}\n",
    "\n",
    "def build_classifiers(clf, X_train_enc, X_test_enc, y_train, y_test):\n",
    "    # train classifier on the encoded training data\n",
    "    clf.fit(X_train_enc, y_train)\n",
    "    # predict using the trained classifier on the encoded test data\n",
    "    y_pred = clf.predict(X_test_enc)\n",
    "\n",
    "    # evaluate the classifier performance using f1, precision, and recall\n",
    "    f1 = f1_score(y_test, y_pred, average=\"micro\")\n",
    "    precision = precision_score(y_test, y_pred, average=\"micro\")\n",
    "    recall = recall_score(y_test, y_pred, average=\"micro\")\n",
    "\n",
    "    return f1, precision, recall  # return the performance metrics\n",
    "\n",
    "# feature engineering: removing less relevant columns\n",
    "for i in range(1, 4):\n",
    "    column_name = \"Column \" + str(i)\n",
    "    df[column_name] = \"_\"  # set the value to a placeholder to simulate removal\n",
    "    print(f\"Removing {column_name}\")\n",
    "\n",
    "    # apply ordinal encoding to handle categorical variables in a way that models can interpret\n",
    "    le = preprocessing.OrdinalEncoder(handle_unknown='use_encoded_value', unknown_value=-1)\n",
    "    le.fit(df.values.ravel().reshape(-1, 1))  # fit the encoder to the full dataset to capture all categories\n",
    "\n",
    "    # transform the training and test datasets to numerical format using the fitted encoder\n",
    "    X_train_enc = le.transform(X_train.values.ravel().reshape(-1, 1)).squeeze().reshape(X_train.shape[0], -1).astype(int)\n",
    "    X_test_enc = le.transform(X_test.values.ravel().reshape(-1, 1)).squeeze().reshape(X_test.shape[0], -1).astype(int)\n",
    "\n",
    "    for name, clf in classifiers.items():\n",
    "        print('Now classifying', name)  # notify current classifier in use\n",
    "        f1, precision, recall = build_classifiers(clf, X_train_enc, X_test_enc, y_train, y_test)  # build and evaluate classifiers\n",
    "\n",
    "        # print evaluation scores for the current classifier\n",
    "        print(\"\\tAverage F1 for {}:\\t\\t\".format(name), f1)\n",
    "        print(\"\\tAverage Precision for {}:\\t\".format(name), precision)\n",
    "        print(\"\\tAverage Recall for {}:\\t\\t\".format(name), recall)\n"
   ]
  }
 ],
 "metadata": {
  "kernelspec": {
   "display_name": "Python 3",
   "language": "python",
   "name": "python3"
  },
  "language_info": {
   "codemirror_mode": {
    "name": "ipython",
    "version": 3
   },
   "file_extension": ".py",
   "mimetype": "text/x-python",
   "name": "python",
   "nbconvert_exporter": "python",
   "pygments_lexer": "ipython3",
   "version": "3.12.2"
  }
 },
 "nbformat": 4,
 "nbformat_minor": 2
}
