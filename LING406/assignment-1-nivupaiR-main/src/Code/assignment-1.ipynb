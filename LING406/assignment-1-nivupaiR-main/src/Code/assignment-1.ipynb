{
 "cells": [
  {
   "cell_type": "code",
   "execution_count": 172,
   "metadata": {},
   "outputs": [
    {
     "name": "stdout",
     "output_type": "stream",
     "text": [
      "['Labor Day', 'Memorial day', 'the 13th of May. ', 'the 1st of January, 2020', 'the 5th of May', 'Friday, December 21st, 2012', 'January 5th, 2015', 'january 5th, 2015', 'January 15, 2029', 'May 13, 2007', 'September 11, 2001', 'October 3rd ', 'November 29th ', 'May 5th', 'Jan 5th, 2015', 'Jan 5th', 'jan 5th, 2015', '1/1/2020', '2/1/2020', '2015', '1935', '1948', 'Monday, 2pm', 'Tuesday afternoon', 'monday', 'Sunday', 'Monday', 'Monday', 'Monday', 'January', 'May', 'May', 'June', 'June']\n"
     ]
    }
   ],
   "source": [
    "import re\n",
    "\n",
    "def extract_dates(input_file, output_file):\n",
    "    # open input output files\n",
    "    with open(input_file, 'r') as fIn, open(output_file, 'w') as fOut:\n",
    "        # Read file\n",
    "        Data = fIn.read()\n",
    "\n",
    "        # list to store found dates\n",
    "        dates = []\n",
    "\n",
    "        # case-insensitive\n",
    "        patterns = [\n",
    "            # american holidays\n",
    "            r'(?i)(?:new year\\'s day|martin luther king, jr\\. day|george washington\\'s birthday|memorial day|independence day|labor day|colombus day|veterans day|thanksgiving day|christmas day|christmas|new year\\'s|thanksgiving)',\n",
    "            # month, day (num written) month, year -- with the/of\n",
    "            r'(?i)(?:the\\s)?(?:(?:(?:[1-9]|1[0-9]|2[0-9]|3[0-1])(?:st|nd|rd|th)?))(?:\\s)of(?:\\s)(?:january|february|march|april|may|june|july|august|september|october|november|december)[,.]?\\s?(?:\\d{4})?',\n",
    "            # day of week, month, day (num written), year -- with the/of\n",
    "            r'(?i)(?:sunday|monday|tuesday|wednesday|thursday|friday|saturday)(?:\\s)(?:the\\s)(?:(?:[1-9]|1[0-9]|2[0-9]|3[0-1])(?:st|nd|rd|th)?)[,.]?\\s?(?:\\d{4})?\\b',\n",
    "            # day of week, month, day (num written), year -- without the/of\n",
    "            r'(?i)(?:monday|tuesday|wednesday|thursday|friday|saturday)[,]?\\s(?:january|february|march|april|may|june|july|august|september|october|november|december)\\s(?:(?:[1-9]|1[0-9]|2[0-9]|3[0-1])(?:st|nd|rd|th)?)?[,.]?\\s?(?:\\d{4})',\n",
    "            # month, day (num written), year -- without the/of\n",
    "            r'(?i)\\b(?:january|february|march|april|may|june|july|august|september|october|november|december)\\s(?:(?:[1-9]|1[0-9]|2[0-9]|3[0-1])(?:st|nd|rd|th)?)[,.]?\\s?(?:\\d{4})?\\b',\n",
    "            # month (abr), day (num written), year -- without the/of\n",
    "            r'(?i)\\b(?:jan|feb|mar|apr|may|jun|jul|aug|sep|oct|nov|dec)\\s(?:(?:[1-9]|1[0-9]|2[0-9]|3[0-1])(?:st|nd|rd|th)?)[,.]?\\s?(?:\\d{4})?\\b',\n",
    "            # date in MM/DD/YYYY or M/D/YYYY\n",
    "            r'(?i)(?:(?:[1-9]|1[0-2])/(?:(?:[1-9])|(?:[1-9]|1[0-9]|2[0-9]|3[0-1]))/(?:\\d{4}|\\d{2}))',\n",
    "            # only years\n",
    "            r'(?i)\\d{4}',\n",
    "            # day of week and time in 12-hr format\n",
    "            r'(?i)(?:monday|tuesday|wednesday|thursday|friday|saturday)[,]?\\s(?:1[0-2]|[1-9])(?:a\\.m|p\\.m|am|pm)',\n",
    "            # day of week at time category (morn, aft, eve, night)\n",
    "            r'(?i)(?:sunday|monday|tuesday|wednesday|thursday|friday|saturday)\\s(?:morning|afternoon|evening|night)',\n",
    "            # day of week at time category (morn, aft, eve, night) - alternate pattern\n",
    "            r'(?i)(?:monday|tuesday|wednesday|thursday|friday|saturday)\\s(?:morning|afternoon|evening|night)',\n",
    "            # day of week\n",
    "            r'(?i)(?:sunday|monday|tuesday|wednesday|thursday|friday|saturday)',\n",
    "            # only months\n",
    "            r'(?i)(?:january|february|march|april|may|june|july|august|september|october|november|december)',\n",
    "        ]\n",
    "\n",
    "        # Loop through patterns and find matches\n",
    "        for pattern in patterns:\n",
    "            matches = re.findall(pattern, Data)\n",
    "            for date in matches:\n",
    "                Data = re.sub(re.escape(date), \"\", Data)\n",
    "                dates.append(date)\n",
    "\n",
    "        # Write found dates to output file\n",
    "        for date in dates:\n",
    "            fOut.write(date + '\\n')\n",
    "\n",
    "    return dates\n",
    "\n",
    "def main():\n",
    "    input_file = \"../Data/Input/input.txt\"\n",
    "    output_file = \"../Data/Output/output.txt\"\n",
    "\n",
    "    extracted_dates = extract_dates(input_file, output_file)\n",
    "    print(extracted_dates)\n",
    "\n",
    "if __name__ == \"__main__\":\n",
    "    main()\n"
   ]
  }
 ],
 "metadata": {
  "kernelspec": {
   "display_name": "Python 3",
   "language": "python",
   "name": "python3"
  },
  "language_info": {
   "codemirror_mode": {
    "name": "ipython",
    "version": 3
   },
   "file_extension": ".py",
   "mimetype": "text/x-python",
   "name": "python",
   "nbconvert_exporter": "python",
   "pygments_lexer": "ipython3",
   "version": "3.12.1"
  },
  "orig_nbformat": 4
 },
 "nbformat": 4,
 "nbformat_minor": 2
}
